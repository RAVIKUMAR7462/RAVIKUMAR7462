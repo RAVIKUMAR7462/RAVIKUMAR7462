{
 "cells": [
  {
   "cell_type": "code",
   "execution_count": 2,
   "id": "b2563316",
   "metadata": {},
   "outputs": [
    {
     "name": "stdout",
     "output_type": "stream",
     "text": [
      "Test Statistics:  0.854544851976857\n"
     ]
    }
   ],
   "source": [
    "# Write a Python program to find the test statistic for given values.\n",
    "import math\n",
    "x_bar = 62.1\n",
    "s = 13.46\n",
    "mu_null = 60\n",
    "n = 30\n",
    "t = (x_bar - mu_null) / (s / math.sqrt(n))\n",
    "print(\"Test Statistics: \",t)"
   ]
  },
  {
   "cell_type": "code",
   "execution_count": 3,
   "id": "a83ef28e",
   "metadata": {},
   "outputs": [
    {
     "name": "stdout",
     "output_type": "stream",
     "text": [
      "T-value: 2.3638460732082978\n"
     ]
    }
   ],
   "source": [
    "# Write a Python program to find the T-Value for an /2 = 0.025 at 29 degrees of freedom (df).\n",
    "\n",
    "from scipy.stats import t\n",
    "\n",
    "alpha = 0.025\n",
    "df = 29\n",
    "\n",
    "# The T-value for a two-tailed test with alpha=0.025 and df=29\n",
    "t_value = t.ppf(1 - alpha/2, df)\n",
    "\n",
    "print(\"T-value:\", t_value)"
   ]
  },
  {
   "cell_type": "code",
   "execution_count": 5,
   "id": "85c723c9",
   "metadata": {},
   "outputs": [
    {
     "name": "stdout",
     "output_type": "stream",
     "text": [
      "P-value: 0.3995598619573093\n"
     ]
    }
   ],
   "source": [
    "#Write a Python program to find the P-value of a T-value bigger than 0.855 for a two tailed test at 29 degrees of freedom (df):\n",
    "from scipy.stats import t\n",
    "\n",
    "t_value = 0.855\n",
    "df = 29\n",
    "\n",
    "# Calculate the P-value for a two-tailed test with a T-value of 0.855 and df=29\n",
    "p_value = 2 * (1 - t.cdf(abs(t_value), df))\n",
    "\n",
    "print(\"P-value:\", p_value)\n",
    "\n",
    "\n",
    "\n"
   ]
  },
  {
   "cell_type": "code",
   "execution_count": 6,
   "id": "f2047bb7",
   "metadata": {},
   "outputs": [
    {
     "name": "stdout",
     "output_type": "stream",
     "text": [
      "T-value: 2.3638460732082978\n"
     ]
    }
   ],
   "source": [
    "\"\"\"Write a Python program to calculate the P-value for a two tailed hypothesis test for a mean.\n",
    "Here, the sample size is 30, the sample mean is 62.1, the sample standard deviation is 13.46,\n",
    "and the test is for a mean different from 60.\"\"\"\n",
    "\n",
    "from scipy.stats import t\n",
    "\n",
    "alpha = 0.025\n",
    "df = 29\n",
    "\n",
    "# The T-value for a two-tailed test with alpha=0.025 and df=29\n",
    "t_value = t.ppf(1 - alpha/2, df)\n",
    "\n",
    "print(\"T-value:\", t_value)\n",
    "\n"
   ]
  },
  {
   "cell_type": "code",
   "execution_count": null,
   "id": "84b70a25",
   "metadata": {},
   "outputs": [],
   "source": [
    "# Write a Python program to calculate the P-value for a two tailed hypothesis test for a mean.\n",
    "import math\n",
    "from scipy.stats import t\n",
    "\n",
    "# Define the sample mean, sample standard deviation, sample size, null hypothesis mean,\n",
    "# and level of significance\n",
    "x_bar = 72.5\n",
    "s = 8.2\n",
    "n = 40\n",
    "mu_null = 70\n",
    "alpha = 0.05  # level of significance\n",
    "\n",
    "# Calculate the t-value\n",
    "t_value = (x_bar - mu_null) / (s / math.sqrt(n))\n",
    "\n",
    "# Calculate the degrees of freedom\n",
    "df = n - 1\n",
    "\n",
    "# Calculate the p-value for a two-tailed test\n",
    "p_value = 2 * (1 - t.cdf(abs(t_value), df))\n",
    "\n",
    "# Compare the p-value to the level of significance to determine if the null hypothesis\n",
    "# should be rejected\n",
    "if p_value < alpha:\n",
    "    print(\"The null hypothesis should be rejected.\")\n",
    "else:\n",
    "    print(\"The null hypothesis should not be rejected.\")\n",
    "\n",
    "print(\"P-value:\", p_value)\n"
   ]
  },
  {
   "cell_type": "code",
   "execution_count": 7,
   "id": "940aa71e",
   "metadata": {},
   "outputs": [
    {
     "name": "stdout",
     "output_type": "stream",
     "text": [
      "Sample mean: 0.45644444444444443\n",
      "T-value: 2.2050588385131595\n",
      "P-value: 0.029265164842448826\n"
     ]
    }
   ],
   "source": [
    "# Write a Python program to calculate the P-value for a 1-Tail Test\n",
    "# μ=0.3\n",
    "# array=pd.Series([0.593,0.142,0.329,0.691,0.231,0.793,0.519,0.392,0.418])\n",
    "\n",
    "import numpy as np\n",
    "from scipy.stats import t\n",
    "\n",
    "# Define the null hypothesis mean and the sample data\n",
    "mu_null = 0.3\n",
    "sample_data = np.array([0.593, 0.142, 0.329, 0.691, 0.231, 0.793, 0.519, 0.392, 0.418])\n",
    "\n",
    "# Calculate the sample mean and standard deviation\n",
    "sample_mean = np.mean(sample_data)\n",
    "sample_std = np.std(sample_data, ddof=1)\n",
    "\n",
    "# Calculate the t-value\n",
    "t_value = (sample_mean - mu_null) / (sample_std / np.sqrt(len(sample_data)))\n",
    "\n",
    "# Calculate the degrees of freedom\n",
    "df = len(sample_data) - 1\n",
    "\n",
    "# Calculate the p-value for a one-tailed test\n",
    "p_value = t.sf(t_value, df)\n",
    "\n",
    "# Print the results\n",
    "print(\"Sample mean:\", sample_mean)\n",
    "print(\"T-value:\", t_value)\n",
    "print(\"P-value:\", p_value)\n"
   ]
  },
  {
   "cell_type": "code",
   "execution_count": 9,
   "id": "be68871f",
   "metadata": {},
   "outputs": [
    {
     "name": "stdout",
     "output_type": "stream",
     "text": [
      "Sample proportion: 0.25\n",
      "Standard error: 0.07905694150420949\n",
      "Test statistic: -3.162277660168379\n"
     ]
    }
   ],
   "source": [
    "# Write a Python program to calculate the test statistic for a proportion.\n",
    "# x = 10\n",
    "# n = 40\n",
    "# p = 0.45 \n",
    "\n",
    "import math\n",
    "\n",
    "# Define the sample size, sample proportion, and null hypothesis proportion\n",
    "x = 10\n",
    "n = 40\n",
    "p = 0.45\n",
    "p_null = 0.5\n",
    "\n",
    "# Calculate the sample proportion and standard error\n",
    "sample_proportion = x / n\n",
    "standard_error = math.sqrt((p_null * (1 - p_null)) / n)\n",
    "\n",
    "# Calculate the test statistic\n",
    "test_statistic = (sample_proportion - p_null) / standard_error\n",
    "\n",
    "# Print the results\n",
    "print(\"Sample proportion:\", sample_proportion)\n",
    "print(\"Standard error:\", standard_error)\n",
    "print(\"Test statistic:\", test_statistic)\n"
   ]
  },
  {
   "cell_type": "code",
   "execution_count": 10,
   "id": "ca3a2fb9",
   "metadata": {},
   "outputs": [
    {
     "name": "stdout",
     "output_type": "stream",
     "text": [
      "Z-value: -2.3263478740408408\n"
     ]
    }
   ],
   "source": [
    "#Write a Python program to the Z-value for an alpha = 0.01 in the left tail.\n",
    "import scipy.stats as stats\n",
    "\n",
    "alpha = 0.01\n",
    "z_value = stats.norm.ppf(alpha)\n",
    "\n",
    "print(\"Z-value:\", z_value)"
   ]
  },
  {
   "cell_type": "code",
   "execution_count": 13,
   "id": "87e4b654",
   "metadata": {},
   "outputs": [
    {
     "name": "stdout",
     "output_type": "stream",
     "text": [
      "1.989009477088945\n"
     ]
    }
   ],
   "source": [
    "# Write a Python program to function find the P-value of a Z-value smaller than -2.543: \n",
    "import scipy.stats as stats\n",
    "\n",
    "def find_p_value(z_value):\n",
    "    # Find the area to the left of the Z-value\n",
    "    area = stats.norm.cdf(z_value)\n",
    "    \n",
    "    # Find the two-tailed P-value by doubling the left-tailed area\n",
    "    p_value = 2 * (1 - area)\n",
    "    \n",
    "    return p_value\n",
    "p_value = find_p_value(-2.543)\n",
    "print(p_value)\n"
   ]
  },
  {
   "cell_type": "code",
   "execution_count": 15,
   "id": "8ca4a279",
   "metadata": {},
   "outputs": [
    {
     "name": "stdout",
     "output_type": "stream",
     "text": [
      "P-value: 0.005502076588434386\n"
     ]
    }
   ],
   "source": [
    "# Write a Python program to function find the P-value for a left tailed hypothesis test for a proportion.\n",
    "# Here, the sample size is 40, the occurences are 10, and the test is for a proportion smaller than 0.45.\n",
    "\n",
    "import scipy.stats as stats\n",
    "import numpy as np\n",
    "def find_p_value_prop(n, x, p_null, alternative='smaller'):\n",
    "    # Calculate the sample proportion\n",
    "    p_hat = x / n\n",
    "    \n",
    "    # Calculate the standard error\n",
    "    se = np.sqrt(p_null * (1 - p_null) / n)\n",
    "    \n",
    "    # Calculate the test statistic\n",
    "    z = (p_hat - p_null) / se\n",
    "    \n",
    "    # Find the area to the left of the test statistic\n",
    "    area = stats.norm.cdf(z)\n",
    "    \n",
    "    # Find the P-value based on the alternative hypothesis\n",
    "    if alternative == 'smaller':\n",
    "        p_value = area\n",
    "    elif alternative == 'greater':\n",
    "        p_value = 1 - area\n",
    "    else:\n",
    "        p_value = 2 * (1 - area)\n",
    "    \n",
    "    return p_value\n",
    "n = 40\n",
    "x = 10\n",
    "p_null = 0.45\n",
    "alternative = 'smaller'\n",
    "\n",
    "p_value = find_p_value_prop(n, x, p_null, alternative)\n",
    "print(\"P-value:\", p_value)\n"
   ]
  },
  {
   "cell_type": "code",
   "execution_count": 16,
   "id": "efe8d3ba",
   "metadata": {},
   "outputs": [
    {
     "name": "stdout",
     "output_type": "stream",
     "text": [
      "Test Statistic: -8.0\n"
     ]
    }
   ],
   "source": [
    "# Write a Python program to function and calculate the test statistic for a proportion. \n",
    "# x = 10\n",
    "# n = 100\n",
    "# p = 0.5\n",
    "\n",
    "import math\n",
    "\n",
    "def proportion_test_stat(x, n, p):\n",
    "    phat = x / n\n",
    "    se = math.sqrt(p * (1 - p) / n)\n",
    "    z = (phat - p) / se\n",
    "    return z\n",
    "\n",
    "x = 10\n",
    "n = 100\n",
    "p = 0.5\n",
    "\n",
    "test_stat = proportion_test_stat(x, n, p)\n",
    "print(\"Test Statistic:\", test_stat)\n"
   ]
  },
  {
   "cell_type": "code",
   "execution_count": 17,
   "id": "2e02b7e0",
   "metadata": {},
   "outputs": [
    {
     "name": "stdout",
     "output_type": "stream",
     "text": [
      "Z-value: -2.575829303548901\n"
     ]
    }
   ],
   "source": [
    "# Write a Python program to find Z-value for an alpha/2 = 0.005 in the left tail.\n",
    "import scipy.stats as stats\n",
    "\n",
    "alpha = 0.005\n",
    "z_value = stats.norm.ppf(alpha)\n",
    "print(\"Z-value:\", z_value)\n"
   ]
  },
  {
   "cell_type": "code",
   "execution_count": 18,
   "id": "a51eee38",
   "metadata": {},
   "outputs": [
    {
     "name": "stdout",
     "output_type": "stream",
     "text": [
      "Z-value: -2.575829303548901\n"
     ]
    }
   ],
   "source": [
    "# Write a Python program to find the Z-value for an alpha= 0.005 in the left tail.\n",
    "import scipy.stats as stats\n",
    "\n",
    "alpha = 0.005\n",
    "z_value = stats.norm.ppf(alpha)\n",
    "print(\"Z-value:\", z_value)\n"
   ]
  },
  {
   "cell_type": "code",
   "execution_count": null,
   "id": "0037fc6e",
   "metadata": {},
   "outputs": [],
   "source": [
    "#Write a Python program to find the P-value of a Z-value smaller than -8 for a two tailed test:\n",
    "import scipy.stats as stats\n",
    "\n",
    "z_value = -8\n",
    "p_value = stats.norm.cdf(z_value) * 2\n",
    "print(\"P-value:\", p_value)\n"
   ]
  },
  {
   "cell_type": "code",
   "execution_count": 19,
   "id": "59ace635",
   "metadata": {},
   "outputs": [
    {
     "name": "stdout",
     "output_type": "stream",
     "text": [
      "P-value for two-tailed hypothesis test: nan\n"
     ]
    },
    {
     "name": "stderr",
     "output_type": "stream",
     "text": [
      "C:\\Users\\Vikas\\AppData\\Local\\Temp\\ipykernel_3284\\646669344.py:14: RuntimeWarning: Precision loss occurred in moment calculation due to catastrophic cancellation. This occurs when the data are nearly identical. Results may be unreliable.\n",
      "  t_statistic, p_value = stats.ttest_1samp([p_sample], p_null)\n",
      "C:\\Users\\Vikas\\anaconda3\\lib\\site-packages\\scipy\\stats\\_stats_py.py:1250: RuntimeWarning: divide by zero encountered in true_divide\n",
      "  var *= np.divide(n, n-ddof)  # to avoid error on division by zero\n",
      "C:\\Users\\Vikas\\anaconda3\\lib\\site-packages\\scipy\\stats\\_stats_py.py:1250: RuntimeWarning: invalid value encountered in double_scalars\n",
      "  var *= np.divide(n, n-ddof)  # to avoid error on division by zero\n"
     ]
    }
   ],
   "source": [
    "# Write a Python program to calculate the P-value for a two-tailed tailed hypothesis test for a proportion.\n",
    "# Here, the sample size is 100, the occurrences are 10, and the test is for a proportion different from than 0.50.\n",
    "from scipy import stats\n",
    "\n",
    "# Input values\n",
    "n = 100\n",
    "x = 10\n",
    "p_null = 0.50\n",
    "\n",
    "# Calculate sample proportion\n",
    "p_sample = x/n\n",
    "\n",
    "# Calculate test statistic and p-value\n",
    "t_statistic, p_value = stats.ttest_1samp([p_sample], p_null)\n",
    "\n",
    "# Calculate two-tailed p-value\n",
    "p_value *= 2\n",
    "\n",
    "print(\"P-value for two-tailed hypothesis test: {:.4f}\".format(p_value))\n"
   ]
  },
  {
   "cell_type": "code",
   "execution_count": null,
   "id": "dbcd6ba1",
   "metadata": {},
   "outputs": [],
   "source": []
  }
 ],
 "metadata": {
  "kernelspec": {
   "display_name": "Python 3 (ipykernel)",
   "language": "python",
   "name": "python3"
  },
  "language_info": {
   "codemirror_mode": {
    "name": "ipython",
    "version": 3
   },
   "file_extension": ".py",
   "mimetype": "text/x-python",
   "name": "python",
   "nbconvert_exporter": "python",
   "pygments_lexer": "ipython3",
   "version": "3.9.13"
  }
 },
 "nbformat": 4,
 "nbformat_minor": 5
}
